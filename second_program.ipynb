{
 "cells": [
  {
   "cell_type": "code",
   "execution_count": 16,
   "metadata": {},
   "outputs": [],
   "source": [
    "import pandas as pd\n",
    "import numpy as np\n",
    "df= pd.read_csv(\"dataset_1.csv\",header=None)\n",
    "X= np.array(df.iloc[:,:-1])\n",
    "Y=np.array(df.iloc[:,-1])"
   ]
  },
  {
   "cell_type": "code",
   "execution_count": 17,
   "metadata": {},
   "outputs": [],
   "source": [
    "def candele(X,Y):\n",
    "    specific_h=list(X[0])\n",
    "    print(\"specific:\",specific_h)\n",
    "    general_h=[['?' for i in range(len(specific_h))] for i in range(len(specific_h))]\n",
    "    for i,h in enumerate(X):\n",
    "        if(Y[i]==1):\n",
    "            for x in range(len(specific_h)):\n",
    "                if(h[x]!=specific_h[x]):\n",
    "                    specific_h[x]='?'\n",
    "                    general_h[x][x]='?'\n",
    "        if(Y[i]==0):\n",
    "            for x in range(len(specific_h)):\n",
    "                if(h[x]!=specific_h[x]):\n",
    "                    general_h[x][x]=specific_h[x]\n",
    "                else:\n",
    "                    general_h[x][x] = '?'\n",
    "\n",
    "        print(\"s[{}]\".format(i+1),specific_h)\n",
    "        print(\"g[{}]\".format(i+1),general_h,end=\"\\n\")\n",
    "    count=0\n",
    "    for i,val in enumerate(general_h):\n",
    "        if val==['?','?','?','?','?','?']:\n",
    "            count=count+1\n",
    "    for i in range(count):\n",
    "        general_h.remove(['?','?','?','?','?','?'])\n",
    "    return specific_h,general_h;\n",
    "                "
   ]
  },
  {
   "cell_type": "code",
   "execution_count": 18,
   "metadata": {},
   "outputs": [
    {
     "name": "stdout",
     "output_type": "stream",
     "text": [
      "specific: ['sunny', 'warm', 'normal', 'strong', 'warm', 'same']\n",
      "s[1] ['sunny', 'warm', 'normal', 'strong', 'warm', 'same']\n",
      "g[1] [['?', '?', '?', '?', '?', '?'], ['?', '?', '?', '?', '?', '?'], ['?', '?', '?', '?', '?', '?'], ['?', '?', '?', '?', '?', '?'], ['?', '?', '?', '?', '?', '?'], ['?', '?', '?', '?', '?', '?']]\n",
      "s[2] ['sunny', 'warm', '?', 'strong', 'warm', 'same']\n",
      "g[2] [['?', '?', '?', '?', '?', '?'], ['?', '?', '?', '?', '?', '?'], ['?', '?', '?', '?', '?', '?'], ['?', '?', '?', '?', '?', '?'], ['?', '?', '?', '?', '?', '?'], ['?', '?', '?', '?', '?', '?']]\n",
      "s[3] ['sunny', 'warm', '?', 'strong', 'warm', 'same']\n",
      "g[3] [['sunny', '?', '?', '?', '?', '?'], ['?', 'warm', '?', '?', '?', '?'], ['?', '?', '?', '?', '?', '?'], ['?', '?', '?', '?', '?', '?'], ['?', '?', '?', '?', '?', '?'], ['?', '?', '?', '?', '?', 'same']]\n",
      "s[4] ['sunny', 'warm', '?', 'strong', '?', '?']\n",
      "g[4] [['sunny', '?', '?', '?', '?', '?'], ['?', 'warm', '?', '?', '?', '?'], ['?', '?', '?', '?', '?', '?'], ['?', '?', '?', '?', '?', '?'], ['?', '?', '?', '?', '?', '?'], ['?', '?', '?', '?', '?', '?']]\n",
      "finalspecific: ['sunny', 'warm', '?', 'strong', '?', '?']\n",
      "finalgeneral: [['sunny', '?', '?', '?', '?', '?'], ['?', 'warm', '?', '?', '?', '?']]\n"
     ]
    }
   ],
   "source": [
    "specific,general=candele(X,Y)\n",
    "print(\"finalspecific:\",specific,end=\"\\n\")\n",
    "print(\"finalgeneral:\",general)\n"
   ]
  },
  {
   "cell_type": "code",
   "execution_count": null,
   "metadata": {},
   "outputs": [],
   "source": []
  }
 ],
 "metadata": {
  "kernelspec": {
   "display_name": "Python 3",
   "language": "python",
   "name": "python3"
  },
  "language_info": {
   "codemirror_mode": {
    "name": "ipython",
    "version": 3
   },
   "file_extension": ".py",
   "mimetype": "text/x-python",
   "name": "python",
   "nbconvert_exporter": "python",
   "pygments_lexer": "ipython3",
   "version": "3.7.3"
  }
 },
 "nbformat": 4,
 "nbformat_minor": 2
}
