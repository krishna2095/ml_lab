{
 "cells": [
  {
   "cell_type": "code",
   "execution_count": 110,
   "metadata": {},
   "outputs": [],
   "source": [
    "import pandas as pd\n",
    "import math\n",
    "from collections import Counter\n",
    "from pprint import pprint\n",
    "import numpy as np"
   ]
  },
  {
   "cell_type": "code",
   "execution_count": 111,
   "metadata": {},
   "outputs": [],
   "source": [
    "df=pd.read_csv(\"dataset_3.csv\")\n",
    "attr=list(df.columns)\n",
    "attr.remove('answer')"
   ]
  },
  {
   "cell_type": "code",
   "execution_count": 112,
   "metadata": {},
   "outputs": [],
   "source": [
    "def entropy(probs):\n",
    "    sm=[]\n",
    "    for prob in probs:\n",
    "        sm.append(-prob*math.log(prob,2))\n",
    "    return sum(sm)"
   ]
  },
  {
   "cell_type": "code",
   "execution_count": 113,
   "metadata": {},
   "outputs": [],
   "source": [
    "def entropy_of_list(a_list):\n",
    "    count = Counter(a_list)\n",
    "    n_insits = len(a_list)*1.0\n",
    "    probs=[]\n",
    "    for x in count.values():\n",
    "        probs.append(x/n_insits)\n",
    "    return entropy(probs)"
   ]
  },
  {
   "cell_type": "code",
   "execution_count": 114,
   "metadata": {},
   "outputs": [],
   "source": [
    "def information_gain(df,split_attr_name, target_attr_name):\n",
    "    df_split = df.groupby(split_attr_name)\n",
    "    n_obs=len(df_split)*1.0\n",
    "    df_agg_ent =df_split.agg({target_attr_name:{entropy_of_list,lambda x:len(x)/n_obs}})\n",
    "    df_agg_ent.columns=[\"entropy\",\"propobservations\"]\n",
    "    new_entropy=sum(df_agg_ent['entropy']*df_agg_ent['propobservations'])\n",
    "    old_entropy=entropy_of_list(df[target_attr_name])\n",
    "    return old_entropy-new_entropy\n"
   ]
  },
  {
   "cell_type": "code",
   "execution_count": 115,
   "metadata": {},
   "outputs": [],
   "source": [
    "def id3(df,target_attr_name,attr_names,default_class=None):\n",
    "    cut = Counter(x for x in df[target_attr_name])\n",
    "    if len(cut)==1:\n",
    "        return next(iter(cut))\n",
    "    \n",
    "    elif df.empty or (not attr_names):\n",
    "        return default_class\n",
    "    \n",
    "    else:\n",
    "        default_class = max(cut.keys())\n",
    "        gain = [information_gain(df,attr,target_attr_name) for attr in attr_names]\n",
    "        index_of_max= gain.index(max(gain))\n",
    "        best_attr=attr_names[index_of_max]\n",
    "        tree={best_attr:{}}\n",
    "        remaining_attr_names = [i for i in attr_names if i!=best_attr]\n",
    "        for attr_val,data_subset in df.groupby(best_attr):\n",
    "            subtree =id3(data_subset,target_attr_name,remaining_attr_names,default_class)\n",
    "            tree[best_attr][attr_val] = subtree\n",
    "    return tree"
   ]
  },
  {
   "cell_type": "code",
   "execution_count": 116,
   "metadata": {},
   "outputs": [
    {
     "name": "stdout",
     "output_type": "stream",
     "text": [
      "\n",
      "\n",
      " the result of decision tree is:\n",
      "\n",
      "\n",
      "{'outlook': {'overcast': 'yes',\n",
      "             'rain': {'wind': {'strong': 'no', 'weak': 'yes'}},\n",
      "             'sunny': {'humidity': {'high': 'no', 'normal': 'yes'}}}}\n"
     ]
    }
   ],
   "source": [
    "tree=id3(df,'answer',attr)\n",
    "print(\"\\n\\n the result of decision tree is:\\n\\n\")\n",
    "pprint(tree)"
   ]
  },
  {
   "cell_type": "code",
   "execution_count": null,
   "metadata": {},
   "outputs": [],
   "source": []
  },
  {
   "cell_type": "code",
   "execution_count": null,
   "metadata": {},
   "outputs": [],
   "source": []
  }
 ],
 "metadata": {
  "kernelspec": {
   "display_name": "Python 3",
   "language": "python",
   "name": "python3"
  },
  "language_info": {
   "codemirror_mode": {
    "name": "ipython",
    "version": 3
   },
   "file_extension": ".py",
   "mimetype": "text/x-python",
   "name": "python",
   "nbconvert_exporter": "python",
   "pygments_lexer": "ipython3",
   "version": "3.7.3"
  }
 },
 "nbformat": 4,
 "nbformat_minor": 2
}
