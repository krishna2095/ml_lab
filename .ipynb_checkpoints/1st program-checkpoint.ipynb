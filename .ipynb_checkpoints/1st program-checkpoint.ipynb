{
 "cells": [
  {
   "cell_type": "code",
   "execution_count": 37,
   "metadata": {},
   "outputs": [
    {
     "name": "stdout",
     "output_type": "stream",
     "text": [
      "The general hypothesis is: ['?', '?', '?', '?', '?', '?', '?']\n",
      "The specific hypothesis is: ['0', '0', '0', '0', '0', '0', '0']\n",
      "chosen hypothesis is: ['sunny', 'warm', 'normal', 'strong', 'warm', 'same', 1]\n",
      "Maximally specific set hypothesis is: ['sunny', 'warm', '?', 'strong', '?', '?', 1]\n"
     ]
    }
   ],
   "source": [
    "import pandas as pd \n",
    "\n",
    "df = pd.read_csv(\"dataset_1.csv\",header=None)\n",
    "n=len(df.columns)\n",
    "\n",
    "general=['?']*n\n",
    "specific =['0'] * n\n",
    "\n",
    "print(\"The general hypothesis is:\",general)\n",
    "print(\"The specific hypothesis is:\",specific)\n",
    "hyp=list(df.iloc[0])\n",
    "\n",
    "print(\"chosen hypothesis is:\",hyp)\n",
    "for i in range(len(df)):\n",
    "    if(df.iloc[i,6]==0):\n",
    "            pass\n",
    "    if(df.iloc[i,6]==1):\n",
    "        for j in range(n-1):\n",
    "            if(df.iloc[i,j]!= hyp[j]):\n",
    "                hyp[j]='?'\n",
    "        \n",
    "print(\"Maximally specific set hypothesis is:\",hyp)\n",
    "\n"
   ]
  },
  {
   "cell_type": "code",
   "execution_count": null,
   "metadata": {},
   "outputs": [],
   "source": []
  },
  {
   "cell_type": "code",
   "execution_count": null,
   "metadata": {},
   "outputs": [],
   "source": []
  }
 ],
 "metadata": {
  "kernelspec": {
   "display_name": "Python 3",
   "language": "python",
   "name": "python3"
  },
  "language_info": {
   "codemirror_mode": {
    "name": "ipython",
    "version": 3
   },
   "file_extension": ".py",
   "mimetype": "text/x-python",
   "name": "python",
   "nbconvert_exporter": "python",
   "pygments_lexer": "ipython3",
   "version": "3.7.3"
  }
 },
 "nbformat": 4,
 "nbformat_minor": 2
}
