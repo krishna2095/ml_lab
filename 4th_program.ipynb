{
 "cells": [
  {
   "cell_type": "code",
   "execution_count": 1,
   "metadata": {},
   "outputs": [],
   "source": [
    "import pandas as pd\n",
    "import numpy as np\n",
    "x=np.array([[2,9],[1,5],[3,6]],dtype=float)\n",
    "y=np.array(([92],[86],[89]),dtype=float)\n",
    "x=x/np.amax(x,axis=0)\n",
    "y=y/100\n"
   ]
  },
  {
   "cell_type": "code",
   "execution_count": 2,
   "metadata": {},
   "outputs": [],
   "source": [
    "def sigmoid(x):\n",
    "    return (1/(1+np.exp(-x)))"
   ]
  },
  {
   "cell_type": "code",
   "execution_count": 3,
   "metadata": {},
   "outputs": [],
   "source": [
    "def derivatives_sigmoid(x):\n",
    "    return x*(1-x)"
   ]
  },
  {
   "cell_type": "code",
   "execution_count": 4,
   "metadata": {},
   "outputs": [],
   "source": [
    "epoch=7000\n",
    "lr=0.1\n",
    "inputlayer_neurons=2\n",
    "hiddenlayer_neurons=3\n",
    "output_neurons=2"
   ]
  },
  {
   "cell_type": "code",
   "execution_count": 5,
   "metadata": {},
   "outputs": [],
   "source": [
    "wh=np.random.uniform(size=(inputlayer_neurons,hiddenlayer_neurons))\n",
    "bh=np.random.uniform(size=(1,hiddenlayer_neurons))\n",
    "wout=np.random.uniform(size=(hiddenlayer_neurons,output_neurons))\n",
    "bout=np.random.uniform(size=(1,output_neurons))\n"
   ]
  },
  {
   "cell_type": "code",
   "execution_count": 7,
   "metadata": {},
   "outputs": [],
   "source": [
    "for i in range(epoch):\n",
    "    #forward propagation\n",
    "        hinp1=np.dot(x,wh)\n",
    "        hinp1= hinp1+bh\n",
    "        hlayer_act = sigmoid(hinp1)\n",
    "        outinp=np.dot(hlayer_act,wout)\n",
    "        outinp=outinp+bout\n",
    "        output=sigmoid(outinp)\n",
    "    #Back Propagation\n",
    "        EO=y-output\n",
    "        outgrad=derivatives_sigmoid(output)\n",
    "        d_output= EO* outgrad\n",
    "        EH = d_output.dot(wout.T)\n",
    "        hiddengrad = derivatives_sigmoid(hlayer_act)\n",
    "        d_hiddenlayer= EH * hiddengrad\n",
    "        wout += hlayer_act.T.dot(d_output)*lr\n",
    "        wh += x.T.dot(d_hiddenlayer) * lr"
   ]
  },
  {
   "cell_type": "code",
   "execution_count": 8,
   "metadata": {},
   "outputs": [
    {
     "name": "stdout",
     "output_type": "stream",
     "text": [
      "\n",
      " Input: \n",
      "[[0.66666667 1.        ]\n",
      " [0.33333333 0.55555556]\n",
      " [1.         0.66666667]]\n",
      "Actual Output: \n",
      "[[0.92]\n",
      " [0.86]\n",
      " [0.89]]\n",
      "predicted Output: \n",
      " [[0.89475847 0.89555321]\n",
      " [0.88232804 0.8796388 ]\n",
      " [0.89312241 0.89459249]]\n"
     ]
    }
   ],
   "source": [
    "print(\"\\n Input: \\n\" + str(x))\n",
    "print(\"Actual Output: \\n\" +str(y))\n",
    "print(\"predicted Output: \\n\" ,output)"
   ]
  },
  {
   "cell_type": "code",
   "execution_count": null,
   "metadata": {},
   "outputs": [],
   "source": []
  }
 ],
 "metadata": {
  "kernelspec": {
   "display_name": "Python 3",
   "language": "python",
   "name": "python3"
  },
  "language_info": {
   "codemirror_mode": {
    "name": "ipython",
    "version": 3
   },
   "file_extension": ".py",
   "mimetype": "text/x-python",
   "name": "python",
   "nbconvert_exporter": "python",
   "pygments_lexer": "ipython3",
   "version": "3.7.3"
  }
 },
 "nbformat": 4,
 "nbformat_minor": 2
}
