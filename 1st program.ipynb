{
 "cells": [
  {
   "cell_type": "code",
   "execution_count": 2,
   "metadata": {},
   "outputs": [
    {
     "name": "stdout",
     "output_type": "stream",
     "text": [
      "The general hypothesis is: ['?', '?', '?', '?', '?', '?', '?']\n",
      "The specific hypothesis is: ['0', '0', '0', '0', '0', '0', '0']\n",
      "chosen hypothesis is: ['sunny', 'warm', 'normal', 'strong', 'warm', 'same', 1]\n"
     ]
    },
    {
     "ename": "TypeError",
     "evalue": "list indices must be integers or slices, not tuple",
     "output_type": "error",
     "traceback": [
      "\u001b[1;31m---------------------------------------------------------------------------\u001b[0m",
      "\u001b[1;31mTypeError\u001b[0m                                 Traceback (most recent call last)",
      "\u001b[1;32m<ipython-input-2-8434f15cfb1e>\u001b[0m in \u001b[0;36m<module>\u001b[1;34m\u001b[0m\n\u001b[0;32m     20\u001b[0m                 \u001b[0mhyp\u001b[0m\u001b[1;33m[\u001b[0m\u001b[0mj\u001b[0m\u001b[1;33m]\u001b[0m\u001b[1;33m=\u001b[0m\u001b[1;34m'?'\u001b[0m\u001b[1;33m\u001b[0m\u001b[1;33m\u001b[0m\u001b[0m\n\u001b[0;32m     21\u001b[0m \u001b[1;33m\u001b[0m\u001b[0m\n\u001b[1;32m---> 22\u001b[1;33m \u001b[0mprint\u001b[0m\u001b[1;33m(\u001b[0m\u001b[1;34m\"Maximally specific set hypothesis is:\"\u001b[0m\u001b[1;33m,\u001b[0m\u001b[0mhyp\u001b[0m\u001b[1;33m[\u001b[0m\u001b[1;33m:\u001b[0m\u001b[1;33m,\u001b[0m\u001b[1;36m5\u001b[0m\u001b[1;33m]\u001b[0m\u001b[1;33m)\u001b[0m\u001b[1;33m\u001b[0m\u001b[1;33m\u001b[0m\u001b[0m\n\u001b[0m\u001b[0;32m     23\u001b[0m \u001b[1;33m\u001b[0m\u001b[0m\n",
      "\u001b[1;31mTypeError\u001b[0m: list indices must be integers or slices, not tuple"
     ]
    }
   ],
   "source": [
    "import pandas as pd \n",
    "\n",
    "df = pd.read_csv(\"dataset_1.csv\",header=None)\n",
    "n=len(df.columns)\n",
    "\n",
    "general=['?']*n\n",
    "specific =['0'] * n\n",
    "\n",
    "print(\"The general hypothesis is:\",general)\n",
    "print(\"The specific hypothesis is:\",specific)\n",
    "hyp=list(df.iloc[0])\n",
    "\n",
    "print(\"chosen hypothesis is:\",hyp)\n",
    "for i in range(len(df)):\n",
    "    if(df.iloc[i,6]==0):\n",
    "            pass\n",
    "    if(df.iloc[i,6]==1):\n",
    "        for j in range(n-1):\n",
    "            if(df.iloc[i,j]!= hyp[j]):\n",
    "                hyp[j]='?'\n",
    "        \n",
    "print(\"Maximally specific set hypothesis is:\",hyp[:,5])\n",
    "\n"
   ]
  },
  {
   "cell_type": "code",
   "execution_count": null,
   "metadata": {},
   "outputs": [],
   "source": []
  },
  {
   "cell_type": "code",
   "execution_count": null,
   "metadata": {},
   "outputs": [],
   "source": []
  }
 ],
 "metadata": {
  "kernelspec": {
   "display_name": "Python 3",
   "language": "python",
   "name": "python3"
  },
  "language_info": {
   "codemirror_mode": {
    "name": "ipython",
    "version": 3
   },
   "file_extension": ".py",
   "mimetype": "text/x-python",
   "name": "python",
   "nbconvert_exporter": "python",
   "pygments_lexer": "ipython3",
   "version": "3.7.3"
  }
 },
 "nbformat": 4,
 "nbformat_minor": 2
}
